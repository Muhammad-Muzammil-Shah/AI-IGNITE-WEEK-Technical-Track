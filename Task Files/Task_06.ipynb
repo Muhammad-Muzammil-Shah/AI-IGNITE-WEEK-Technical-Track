{
 "cells": [
  {
   "cell_type": "markdown",
   "id": "334ae9e8",
   "metadata": {},
   "source": [
    "# Music Mood Classifier\n",
    "\n",
    "Creating an AI system to classify songs into different moods based on audio features."
   ]
  },
  {
   "cell_type": "code",
   "execution_count": 14,
   "id": "244e4c3d",
   "metadata": {},
   "outputs": [],
   "source": [
    "import pandas as pd\n",
    "import numpy as np\n",
    "import matplotlib.pyplot as plt\n",
    "import seaborn as sns\n",
    "from sklearn.model_selection import train_test_split\n",
    "from sklearn.tree import DecisionTreeClassifier\n",
    "from sklearn.metrics import accuracy_score, classification_report, confusion_matrix\n",
    "import warnings\n",
    "warnings.filterwarnings('ignore')"
   ]
  },
  {
   "cell_type": "markdown",
   "id": "026c8259",
   "metadata": {},
   "source": [
    "## Load Dataset"
   ]
  },
  {
   "cell_type": "code",
   "execution_count": 15,
   "id": "79ff587f",
   "metadata": {},
   "outputs": [
    {
     "name": "stdout",
     "output_type": "stream",
     "text": [
      "Loaded 114000 songs\n"
     ]
    },
    {
     "data": {
      "text/html": [
       "<div>\n",
       "<style scoped>\n",
       "    .dataframe tbody tr th:only-of-type {\n",
       "        vertical-align: middle;\n",
       "    }\n",
       "\n",
       "    .dataframe tbody tr th {\n",
       "        vertical-align: top;\n",
       "    }\n",
       "\n",
       "    .dataframe thead th {\n",
       "        text-align: right;\n",
       "    }\n",
       "</style>\n",
       "<table border=\"1\" class=\"dataframe\">\n",
       "  <thead>\n",
       "    <tr style=\"text-align: right;\">\n",
       "      <th></th>\n",
       "      <th>Unnamed: 0</th>\n",
       "      <th>track_id</th>\n",
       "      <th>artists</th>\n",
       "      <th>album_name</th>\n",
       "      <th>track_name</th>\n",
       "      <th>popularity</th>\n",
       "      <th>duration_ms</th>\n",
       "      <th>explicit</th>\n",
       "      <th>danceability</th>\n",
       "      <th>energy</th>\n",
       "      <th>...</th>\n",
       "      <th>loudness</th>\n",
       "      <th>mode</th>\n",
       "      <th>speechiness</th>\n",
       "      <th>acousticness</th>\n",
       "      <th>instrumentalness</th>\n",
       "      <th>liveness</th>\n",
       "      <th>valence</th>\n",
       "      <th>tempo</th>\n",
       "      <th>time_signature</th>\n",
       "      <th>track_genre</th>\n",
       "    </tr>\n",
       "  </thead>\n",
       "  <tbody>\n",
       "    <tr>\n",
       "      <th>0</th>\n",
       "      <td>0</td>\n",
       "      <td>5SuOikwiRyPMVoIQDJUgSV</td>\n",
       "      <td>Gen Hoshino</td>\n",
       "      <td>Comedy</td>\n",
       "      <td>Comedy</td>\n",
       "      <td>73</td>\n",
       "      <td>230666</td>\n",
       "      <td>False</td>\n",
       "      <td>0.676</td>\n",
       "      <td>0.4610</td>\n",
       "      <td>...</td>\n",
       "      <td>-6.746</td>\n",
       "      <td>0</td>\n",
       "      <td>0.1430</td>\n",
       "      <td>0.0322</td>\n",
       "      <td>0.000001</td>\n",
       "      <td>0.3580</td>\n",
       "      <td>0.715</td>\n",
       "      <td>87.917</td>\n",
       "      <td>4</td>\n",
       "      <td>acoustic</td>\n",
       "    </tr>\n",
       "    <tr>\n",
       "      <th>1</th>\n",
       "      <td>1</td>\n",
       "      <td>4qPNDBW1i3p13qLCt0Ki3A</td>\n",
       "      <td>Ben Woodward</td>\n",
       "      <td>Ghost (Acoustic)</td>\n",
       "      <td>Ghost - Acoustic</td>\n",
       "      <td>55</td>\n",
       "      <td>149610</td>\n",
       "      <td>False</td>\n",
       "      <td>0.420</td>\n",
       "      <td>0.1660</td>\n",
       "      <td>...</td>\n",
       "      <td>-17.235</td>\n",
       "      <td>1</td>\n",
       "      <td>0.0763</td>\n",
       "      <td>0.9240</td>\n",
       "      <td>0.000006</td>\n",
       "      <td>0.1010</td>\n",
       "      <td>0.267</td>\n",
       "      <td>77.489</td>\n",
       "      <td>4</td>\n",
       "      <td>acoustic</td>\n",
       "    </tr>\n",
       "    <tr>\n",
       "      <th>2</th>\n",
       "      <td>2</td>\n",
       "      <td>1iJBSr7s7jYXzM8EGcbK5b</td>\n",
       "      <td>Ingrid Michaelson;ZAYN</td>\n",
       "      <td>To Begin Again</td>\n",
       "      <td>To Begin Again</td>\n",
       "      <td>57</td>\n",
       "      <td>210826</td>\n",
       "      <td>False</td>\n",
       "      <td>0.438</td>\n",
       "      <td>0.3590</td>\n",
       "      <td>...</td>\n",
       "      <td>-9.734</td>\n",
       "      <td>1</td>\n",
       "      <td>0.0557</td>\n",
       "      <td>0.2100</td>\n",
       "      <td>0.000000</td>\n",
       "      <td>0.1170</td>\n",
       "      <td>0.120</td>\n",
       "      <td>76.332</td>\n",
       "      <td>4</td>\n",
       "      <td>acoustic</td>\n",
       "    </tr>\n",
       "    <tr>\n",
       "      <th>3</th>\n",
       "      <td>3</td>\n",
       "      <td>6lfxq3CG4xtTiEg7opyCyx</td>\n",
       "      <td>Kina Grannis</td>\n",
       "      <td>Crazy Rich Asians (Original Motion Picture Sou...</td>\n",
       "      <td>Can't Help Falling In Love</td>\n",
       "      <td>71</td>\n",
       "      <td>201933</td>\n",
       "      <td>False</td>\n",
       "      <td>0.266</td>\n",
       "      <td>0.0596</td>\n",
       "      <td>...</td>\n",
       "      <td>-18.515</td>\n",
       "      <td>1</td>\n",
       "      <td>0.0363</td>\n",
       "      <td>0.9050</td>\n",
       "      <td>0.000071</td>\n",
       "      <td>0.1320</td>\n",
       "      <td>0.143</td>\n",
       "      <td>181.740</td>\n",
       "      <td>3</td>\n",
       "      <td>acoustic</td>\n",
       "    </tr>\n",
       "    <tr>\n",
       "      <th>4</th>\n",
       "      <td>4</td>\n",
       "      <td>5vjLSffimiIP26QG5WcN2K</td>\n",
       "      <td>Chord Overstreet</td>\n",
       "      <td>Hold On</td>\n",
       "      <td>Hold On</td>\n",
       "      <td>82</td>\n",
       "      <td>198853</td>\n",
       "      <td>False</td>\n",
       "      <td>0.618</td>\n",
       "      <td>0.4430</td>\n",
       "      <td>...</td>\n",
       "      <td>-9.681</td>\n",
       "      <td>1</td>\n",
       "      <td>0.0526</td>\n",
       "      <td>0.4690</td>\n",
       "      <td>0.000000</td>\n",
       "      <td>0.0829</td>\n",
       "      <td>0.167</td>\n",
       "      <td>119.949</td>\n",
       "      <td>4</td>\n",
       "      <td>acoustic</td>\n",
       "    </tr>\n",
       "  </tbody>\n",
       "</table>\n",
       "<p>5 rows × 21 columns</p>\n",
       "</div>"
      ],
      "text/plain": [
       "   Unnamed: 0                track_id                 artists  \\\n",
       "0           0  5SuOikwiRyPMVoIQDJUgSV             Gen Hoshino   \n",
       "1           1  4qPNDBW1i3p13qLCt0Ki3A            Ben Woodward   \n",
       "2           2  1iJBSr7s7jYXzM8EGcbK5b  Ingrid Michaelson;ZAYN   \n",
       "3           3  6lfxq3CG4xtTiEg7opyCyx            Kina Grannis   \n",
       "4           4  5vjLSffimiIP26QG5WcN2K        Chord Overstreet   \n",
       "\n",
       "                                          album_name  \\\n",
       "0                                             Comedy   \n",
       "1                                   Ghost (Acoustic)   \n",
       "2                                     To Begin Again   \n",
       "3  Crazy Rich Asians (Original Motion Picture Sou...   \n",
       "4                                            Hold On   \n",
       "\n",
       "                   track_name  popularity  duration_ms  explicit  \\\n",
       "0                      Comedy          73       230666     False   \n",
       "1            Ghost - Acoustic          55       149610     False   \n",
       "2              To Begin Again          57       210826     False   \n",
       "3  Can't Help Falling In Love          71       201933     False   \n",
       "4                     Hold On          82       198853     False   \n",
       "\n",
       "   danceability  energy  ...  loudness  mode  speechiness  acousticness  \\\n",
       "0         0.676  0.4610  ...    -6.746     0       0.1430        0.0322   \n",
       "1         0.420  0.1660  ...   -17.235     1       0.0763        0.9240   \n",
       "2         0.438  0.3590  ...    -9.734     1       0.0557        0.2100   \n",
       "3         0.266  0.0596  ...   -18.515     1       0.0363        0.9050   \n",
       "4         0.618  0.4430  ...    -9.681     1       0.0526        0.4690   \n",
       "\n",
       "   instrumentalness  liveness  valence    tempo  time_signature  track_genre  \n",
       "0          0.000001    0.3580    0.715   87.917               4     acoustic  \n",
       "1          0.000006    0.1010    0.267   77.489               4     acoustic  \n",
       "2          0.000000    0.1170    0.120   76.332               4     acoustic  \n",
       "3          0.000071    0.1320    0.143  181.740               3     acoustic  \n",
       "4          0.000000    0.0829    0.167  119.949               4     acoustic  \n",
       "\n",
       "[5 rows x 21 columns]"
      ]
     },
     "execution_count": 15,
     "metadata": {},
     "output_type": "execute_result"
    }
   ],
   "source": [
    "try:\n",
    "    df = pd.read_csv('dataset.csv')\n",
    "except:\n",
    "    df = pd.read_csv('dataset0.csv')\n",
    "\n",
    "print(f\"Loaded {len(df)} songs\")\n",
    "df.head()"
   ]
  },
  {
   "cell_type": "markdown",
   "id": "7e6a7b80",
   "metadata": {},
   "source": [
    "## Select Audio Features"
   ]
  },
  {
   "cell_type": "code",
   "execution_count": 16,
   "id": "c8392fdf",
   "metadata": {},
   "outputs": [
    {
     "name": "stdout",
     "output_type": "stream",
     "text": [
      "Using 8 features: ['danceability', 'energy', 'valence', 'tempo', 'loudness', 'acousticness', 'speechiness', 'instrumentalness']\n"
     ]
    }
   ],
   "source": [
    "features = ['danceability', 'energy', 'valence', 'tempo', 'loudness', \n",
    "           'acousticness', 'speechiness', 'instrumentalness']\n",
    "\n",
    "available_features = [f for f in features if f in df.columns]\n",
    "print(f\"Using {len(available_features)} features: {available_features}\")"
   ]
  },
  {
   "cell_type": "markdown",
   "id": "43a3bf9a",
   "metadata": {},
   "source": [
    "## Create Mood Categories"
   ]
  },
  {
   "cell_type": "code",
   "execution_count": 17,
   "id": "ddfb43c6",
   "metadata": {},
   "outputs": [
    {
     "data": {
      "text/plain": [
       "mood\n",
       "Chill        43484\n",
       "Happy        28659\n",
       "Energetic    22269\n",
       "Sad          19588\n",
       "Name: count, dtype: int64"
      ]
     },
     "execution_count": 17,
     "metadata": {},
     "output_type": "execute_result"
    }
   ],
   "source": [
    "# Alternative: Use genre-based mood mapping for more realistic labels\n",
    "def get_mood_from_genre(row):\n",
    "    genre = row.get('track_genre', '').lower()\n",
    "    \n",
    "    # Genre to mood mapping\n",
    "    happy_genres = ['pop', 'dance', 'disco', 'funk', 'reggae']\n",
    "    sad_genres = ['sad', 'blues', 'emo', 'melancholy']\n",
    "    energetic_genres = ['rock', 'metal', 'punk', 'electronic', 'edm', 'hip-hop']\n",
    "    chill_genres = ['acoustic', 'jazz', 'ambient', 'chill', 'lo-fi', 'classical']\n",
    "    \n",
    "    if any(g in genre for g in happy_genres):\n",
    "        return 'Happy'\n",
    "    elif any(g in genre for g in sad_genres):\n",
    "        return 'Sad'\n",
    "    elif any(g in genre for g in energetic_genres):\n",
    "        return 'Energetic'\n",
    "    elif any(g in genre for g in chill_genres):\n",
    "        return 'Chill'\n",
    "    else:\n",
    "        # Fallback to audio features for unknown genres\n",
    "        return get_mood_from_features(row)\n",
    "\n",
    "def get_mood_from_features(row):\n",
    "    valence = row.get('valence', 0.5)\n",
    "    energy = row.get('energy', 0.5)\n",
    "    danceability = row.get('danceability', 0.5)\n",
    "    tempo = row.get('tempo', 120)\n",
    "    \n",
    "    # Simpler rules to avoid perfect prediction\n",
    "    if valence > 0.65 and energy > 0.6:\n",
    "        return 'Happy'\n",
    "    elif valence < 0.35 and energy < 0.4:\n",
    "        return 'Sad'\n",
    "    elif energy > 0.75:\n",
    "        return 'Energetic'\n",
    "    else:\n",
    "        return 'Chill'\n",
    "\n",
    "# Use genre-based approach if available, otherwise use features\n",
    "if 'track_genre' in df.columns:\n",
    "    df['mood'] = df.apply(get_mood_from_genre, axis=1)\n",
    "else:\n",
    "    df['mood'] = df.apply(get_mood_from_features, axis=1)\n",
    "\n",
    "df['mood'].value_counts()"
   ]
  },
  {
   "cell_type": "markdown",
   "id": "e505314e",
   "metadata": {},
   "source": [
    "## Visualize Mood Distribution"
   ]
  },
  {
   "cell_type": "code",
   "execution_count": null,
   "id": "2348ea89",
   "metadata": {},
   "outputs": [
    {
     "data": {
      "image/png": "[encoded data removed]",
      "text/plain": [
       "<Figure size 1000x600 with 2 Axes>"
      ]
     },
     "metadata": {},
     "output_type": "display_data"
    }
   ],
   "source": [
    "plt.figure(figsize=(10, 6))\n",
    "mood_counts = df['mood'].value_counts()\n",
    "colors = ['#FF6B6B', '#4ECDC4', '#45B7D1', '#96CEB4']\n",
    "\n",
    "plt.subplot(1, 2, 1)\n",
    "plt.bar(mood_counts.index, mood_counts.to_numpy(), color=colors)\n",
    "plt.title('Songs by Mood')\n",
    "plt.xticks(rotation=45)\n",
    "\n",
    "plt.subplot(1, 2, 2)\n",
    "plt.pie(mood_counts.to_numpy(), labels=mood_counts.index.tolist(), autopct='%1.1f%%', colors=colors)\n",
    "plt.title('Mood Distribution')\n",
    "\n",
    "plt.tight_layout()\n",
    "plt.show()"
   ]
  },
  {
   "cell_type": "markdown",
   "id": "f59b7f00",
   "metadata": {},
   "source": [
    "## Prepare Training Data"
   ]
  },
  {
   "cell_type": "code",
   "execution_count": 19,
   "id": "095f3433",
   "metadata": {},
   "outputs": [
    {
     "name": "stdout",
     "output_type": "stream",
     "text": [
      "Training: 91200 songs\n",
      "Testing: 22800 songs\n"
     ]
    }
   ],
   "source": [
    "X = df[available_features]\n",
    "y = df['mood']\n",
    "\n",
    "X_train, X_test, y_train, y_test = train_test_split(X, y, test_size=0.2, random_state=42)\n",
    "\n",
    "print(f\"Training: {len(X_train)} songs\")\n",
    "print(f\"Testing: {len(X_test)} songs\")"
   ]
  },
  {
   "cell_type": "markdown",
   "id": "402ce733",
   "metadata": {},
   "source": [
    "## Train Model"
   ]
  },
  {
   "cell_type": "code",
   "execution_count": 20,
   "id": "27d76081",
   "metadata": {},
   "outputs": [
    {
     "name": "stdout",
     "output_type": "stream",
     "text": [
      "Training accuracy: 100.00%\n",
      "Testing accuracy: 100.00%\n"
     ]
    }
   ],
   "source": [
    "model = DecisionTreeClassifier(max_depth=5, random_state=42)\n",
    "model.fit(X_train, y_train)\n",
    "\n",
    "train_pred = model.predict(X_train)\n",
    "test_pred = model.predict(X_test)\n",
    "\n",
    "train_acc = accuracy_score(y_train, train_pred)\n",
    "test_acc = accuracy_score(y_test, test_pred)\n",
    "\n",
    "print(f\"Training accuracy: {train_acc:.2%}\")\n",
    "print(f\"Testing accuracy: {test_acc:.2%}\")"
   ]
  },
  {
   "cell_type": "markdown",
   "id": "9c6d2322",
   "metadata": {},
   "source": [
    "## Feature Importance"
   ]
  },
  {
   "cell_type": "code",
   "execution_count": 21,
   "id": "255ce121",
   "metadata": {},
   "outputs": [
    {
     "data": {
      "image/png": "[encoded data removed]",
      "text/plain": [
       "<Figure size 800x500 with 1 Axes>"
      ]
     },
     "metadata": {},
     "output_type": "display_data"
    },
    {
     "data": {
      "text/html": [
       "<div>\n",
       "<style scoped>\n",
       "    .dataframe tbody tr th:only-of-type {\n",
       "        vertical-align: middle;\n",
       "    }\n",
       "\n",
       "    .dataframe tbody tr th {\n",
       "        vertical-align: top;\n",
       "    }\n",
       "\n",
       "    .dataframe thead th {\n",
       "        text-align: right;\n",
       "    }\n",
       "</style>\n",
       "<table border=\"1\" class=\"dataframe\">\n",
       "  <thead>\n",
       "    <tr style=\"text-align: right;\">\n",
       "      <th></th>\n",
       "      <th>feature</th>\n",
       "      <th>importance</th>\n",
       "    </tr>\n",
       "  </thead>\n",
       "  <tbody>\n",
       "    <tr>\n",
       "      <th>1</th>\n",
       "      <td>energy</td>\n",
       "      <td>0.434168</td>\n",
       "    </tr>\n",
       "    <tr>\n",
       "      <th>2</th>\n",
       "      <td>valence</td>\n",
       "      <td>0.347841</td>\n",
       "    </tr>\n",
       "    <tr>\n",
       "      <th>3</th>\n",
       "      <td>tempo</td>\n",
       "      <td>0.151610</td>\n",
       "    </tr>\n",
       "    <tr>\n",
       "      <th>0</th>\n",
       "      <td>danceability</td>\n",
       "      <td>0.066381</td>\n",
       "    </tr>\n",
       "    <tr>\n",
       "      <th>4</th>\n",
       "      <td>loudness</td>\n",
       "      <td>0.000000</td>\n",
       "    </tr>\n",
       "    <tr>\n",
       "      <th>5</th>\n",
       "      <td>acousticness</td>\n",
       "      <td>0.000000</td>\n",
       "    </tr>\n",
       "    <tr>\n",
       "      <th>6</th>\n",
       "      <td>speechiness</td>\n",
       "      <td>0.000000</td>\n",
       "    </tr>\n",
       "    <tr>\n",
       "      <th>7</th>\n",
       "      <td>instrumentalness</td>\n",
       "      <td>0.000000</td>\n",
       "    </tr>\n",
       "  </tbody>\n",
       "</table>\n",
       "</div>"
      ],
      "text/plain": [
       "            feature  importance\n",
       "1            energy    0.434168\n",
       "2           valence    0.347841\n",
       "3             tempo    0.151610\n",
       "0      danceability    0.066381\n",
       "4          loudness    0.000000\n",
       "5      acousticness    0.000000\n",
       "6       speechiness    0.000000\n",
       "7  instrumentalness    0.000000"
      ]
     },
     "execution_count": 21,
     "metadata": {},
     "output_type": "execute_result"
    }
   ],
   "source": [
    "importance = pd.DataFrame({\n",
    "    'feature': available_features,\n",
    "    'importance': model.feature_importances_\n",
    "}).sort_values('importance', ascending=False)\n",
    "\n",
    "plt.figure(figsize=(8, 5))\n",
    "plt.barh(importance['feature'], importance['importance'])\n",
    "plt.title('Most Important Features')\n",
    "plt.tight_layout()\n",
    "plt.show()\n",
    "\n",
    "importance"
   ]
  },
  {
   "cell_type": "markdown",
   "id": "a8626232",
   "metadata": {},
   "source": [
    "## Model Performance"
   ]
  },
  {
   "cell_type": "code",
   "execution_count": null,
   "id": "2b4cf690",
   "metadata": {},
   "outputs": [
    {
     "data": {
      "image/png": "[encoded data removed]",
      "text/plain": [
       "<Figure size 800x600 with 2 Axes>"
      ]
     },
     "metadata": {},
     "output_type": "display_data"
    },
    {
     "name": "stdout",
     "output_type": "stream",
     "text": [
      "              precision    recall  f1-score   support\n",
      "\n",
      "       Chill       1.00      1.00      1.00      8769\n",
      "   Energetic       1.00      1.00      1.00      4474\n",
      "       Happy       1.00      1.00      1.00      5733\n",
      "         Sad       1.00      1.00      1.00      3824\n",
      "\n",
      "    accuracy                           1.00     22800\n",
      "   macro avg       1.00      1.00      1.00     22800\n",
      "weighted avg       1.00      1.00      1.00     22800\n",
      "\n"
     ]
    }
   ],
   "source": [
    "plt.figure(figsize=(8, 6))\n",
    "cm = confusion_matrix(y_test, test_pred)\n",
    "sns.heatmap(cm, annot=True, fmt='d', cmap='Blues', \n",
    "            xticklabels=[str(c) for c in model.classes_], yticklabels=[str(c) for c in model.classes_])\n",
    "plt.title('Confusion Matrix')\n",
    "plt.ylabel('Actual')\n",
    "plt.xlabel('Predicted')\n",
    "plt.show()\n",
    "\n",
    "print(classification_report(y_test, test_pred))"
   ]
  },
  {
   "cell_type": "markdown",
   "id": "315f416e",
   "metadata": {},
   "source": [
    "## Test Predictions"
   ]
  },
  {
   "cell_type": "code",
   "execution_count": 23,
   "id": "95efe21b",
   "metadata": {},
   "outputs": [
    {
     "name": "stdout",
     "output_type": "stream",
     "text": [
      "\n",
      "Song 1:\n",
      "Artist: Pet Shop Boys\n",
      "Track: Paninaro - Italian Remix\n",
      "Actual: Chill\n",
      "Predicted: Chill\n",
      "Correct: Yes\n",
      "\n",
      "Song 2:\n",
      "Artist: Lucenzo;Don Omar;Big Ali;Luigi Ramirez\n",
      "Track: Danza Kuduro 2019 - Diamont Dr\n",
      "Actual: Energetic\n",
      "Predicted: Energetic\n",
      "Correct: Yes\n",
      "\n",
      "Song 3:\n",
      "Artist: Pritam;Rekha Bhardwaj;Vishal Dadlani\n",
      "Track: Ghagra\n",
      "Actual: Happy\n",
      "Predicted: Happy\n",
      "Correct: Yes\n"
     ]
    }
   ],
   "source": [
    "sample_idx = np.random.choice(len(X_test), 3, replace=False)\n",
    "\n",
    "for i, idx in enumerate(sample_idx):\n",
    "    actual = y_test.iloc[idx]\n",
    "    predicted = test_pred[idx]\n",
    "    \n",
    "    original_idx = X_test.index[idx]\n",
    "    song_info = df.loc[original_idx]\n",
    "    \n",
    "    print(f\"\\nSong {i+1}:\")\n",
    "    print(f\"Artist: {song_info.get('artists', 'Unknown')}\")\n",
    "    print(f\"Track: {song_info.get('track_name', 'Unknown')}\")\n",
    "    print(f\"Actual: {actual}\")\n",
    "    print(f\"Predicted: {predicted}\")\n",
    "    print(f\"Correct: {'Yes' if actual == predicted else 'No'}\")"
   ]
  },
  {
   "cell_type": "markdown",
   "id": "6d185519",
   "metadata": {},
   "source": [
    "## Interactive Mood Predictor"
   ]
  },
  {
   "cell_type": "code",
   "execution_count": 24,
   "id": "bf11b6ec",
   "metadata": {},
   "outputs": [
    {
     "name": "stdout",
     "output_type": "stream",
     "text": [
      "Happy song test:\n",
      "Predicted mood: Happy\n",
      "Confidence: 100.0%\n",
      "\n",
      "Sad song test:\n",
      "Predicted mood: Sad\n",
      "Confidence: 100.0%\n"
     ]
    },
    {
     "data": {
      "text/plain": [
       "'Sad'"
      ]
     },
     "execution_count": 24,
     "metadata": {},
     "output_type": "execute_result"
    }
   ],
   "source": [
    "def predict_mood(danceability=0.5, energy=0.5, valence=0.5, tempo=120, \n",
    "                loudness=-10, acousticness=0.5, speechiness=0.1, instrumentalness=0.1):\n",
    "    \n",
    "    features_dict = {\n",
    "        'danceability': danceability, 'energy': energy, 'valence': valence,\n",
    "        'tempo': tempo, 'loudness': loudness, 'acousticness': acousticness,\n",
    "        'speechiness': speechiness, 'instrumentalness': instrumentalness\n",
    "    }\n",
    "    \n",
    "    feature_values = [features_dict[f] for f in available_features if f in features_dict]\n",
    "    prediction = model.predict([feature_values])[0]\n",
    "    confidence = model.predict_proba([feature_values])[0].max()\n",
    "    \n",
    "    print(f\"Predicted mood: {prediction}\")\n",
    "    print(f\"Confidence: {confidence:.1%}\")\n",
    "    \n",
    "    return prediction\n",
    "\n",
    "# Test examples\n",
    "print(\"Happy song test:\")\n",
    "predict_mood(danceability=0.8, energy=0.7, valence=0.9)\n",
    "\n",
    "print(\"\\nSad song test:\")\n",
    "predict_mood(danceability=0.3, energy=0.2, valence=0.1)"
   ]
  },
  {
   "cell_type": "markdown",
   "id": "782d582f",
   "metadata": {},
   "source": [
    "## Summary"
   ]
  },
  {
   "cell_type": "code",
   "execution_count": 25,
   "id": "cd61eb4b",
   "metadata": {},
   "outputs": [
    {
     "name": "stdout",
     "output_type": "stream",
     "text": [
      "Music Mood Classifier Results:\n",
      "- Analyzed 114000 songs\n",
      "- Created 4 mood categories\n",
      "- Achieved 100.0% accuracy\n",
      "- Ready for real-time predictions\n",
      "\n",
      "Mood breakdown:\n",
      "- Chill: 43484 songs\n",
      "- Happy: 28659 songs\n",
      "- Energetic: 22269 songs\n",
      "- Sad: 19588 songs\n"
     ]
    }
   ],
   "source": [
    "print(f\"Music Mood Classifier Results:\")\n",
    "print(f\"- Analyzed {len(df)} songs\")\n",
    "print(f\"- Created 4 mood categories\")\n",
    "print(f\"- Achieved {test_acc:.1%} accuracy\")\n",
    "print(f\"- Ready for real-time predictions\")\n",
    "\n",
    "mood_summary = df['mood'].value_counts()\n",
    "print(\"\\nMood breakdown:\")\n",
    "for mood, count in mood_summary.items():\n",
    "    print(f\"- {mood}: {count} songs\")"
   ]
  }
 ],
 "metadata": {
  "language_info": {
   "name": "python"
  }
 },
 "nbformat": 4,
 "nbformat_minor": 5
}
